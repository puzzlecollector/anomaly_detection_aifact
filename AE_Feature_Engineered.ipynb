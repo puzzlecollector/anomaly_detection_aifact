{
 "cells": [
  {
   "cell_type": "code",
   "execution_count": 2,
   "id": "0231ae3c-2b81-4b9c-a548-28ecedf70a4b",
   "metadata": {},
   "outputs": [
    {
     "name": "stderr",
     "output_type": "stream",
     "text": [
      "/opt/conda/lib/python3.8/site-packages/transformers/generation_utils.py:24: FutureWarning: Importing `GenerationMixin` from `src/transformers/generation_utils.py` is deprecated and will be removed in Transformers v5. Import as `from transformers import GenerationMixin` instead.\n",
      "  warnings.warn(\n"
     ]
    }
   ],
   "source": [
    "import numpy as np \n",
    "import pandas as pd \n",
    "from sklearn.preprocessing import StandardScaler, PowerTransformer, MinMaxScaler, RobustScaler\n",
    "from sklearn.ensemble import IsolationForest \n",
    "from sklearn import svm  \n",
    "from sklearn.mixture import GaussianMixture \n",
    "from sklearn.isotonic import IsotonicRegression\n",
    "from torch.utils.data import Dataset, DataLoader, TensorDataset, RandomSampler, SequentialSampler\n",
    "from tqdm.auto import tqdm\n",
    "import torch\n",
    "import torch.nn as nn\n",
    "import torch.optim as optim\n",
    "from sklearn.decomposition import PCA\n",
    "from transformers import *\n",
    "import time \n",
    "import datetime\n",
    "from sklearn.ensemble import IsolationForest\n",
    "from sklearn.neighbors import LocalOutlierFactor\n",
    "from sklearn.svm import OneClassSVM\n",
    "import matplotlib.pyplot as plt"
   ]
  },
  {
   "cell_type": "code",
   "execution_count": 6,
   "id": "3f1b4025-4ab5-497c-a437-0c4abe8fd4bf",
   "metadata": {},
   "outputs": [
    {
     "data": {
      "text/plain": [
       "Index(['air_inflow', 'air_end_temp', 'out_pressure', 'motor_current',\n",
       "       'motor_rpm', 'motor_temp', 'motor_vibe', 'type'],\n",
       "      dtype='object')"
      ]
     },
     "execution_count": 6,
     "metadata": {},
     "output_type": "execute_result"
    }
   ],
   "source": [
    "train.columns"
   ]
  },
  {
   "cell_type": "code",
   "execution_count": 3,
   "id": "22ee7a47-55f1-4d20-98bb-2f02e9cdf38e",
   "metadata": {},
   "outputs": [],
   "source": [
    "train = pd.read_csv(\"train_data.csv\") \n",
    "test = pd.read_csv(\"test_data.csv\") "
   ]
  },
  {
   "cell_type": "code",
   "execution_count": 3,
   "id": "d4df588d-a751-4a64-9f1e-8010a153dc8c",
   "metadata": {},
   "outputs": [],
   "source": [
    "# shuffle dataframe \n",
    "train = train.sample(frac=1, random_state=42).reset_index(drop=True) "
   ]
  },
  {
   "cell_type": "code",
   "execution_count": 4,
   "id": "ddb999c9-7b70-4996-ba5b-e5a543574de5",
   "metadata": {},
   "outputs": [
    {
     "data": {
      "text/plain": [
       "Index(['air_inflow', 'air_end_temp', 'out_pressure', 'motor_current',\n",
       "       'motor_rpm', 'motor_temp', 'motor_vibe', 'type'],\n",
       "      dtype='object')"
      ]
     },
     "execution_count": 4,
     "metadata": {},
     "output_type": "execute_result"
    }
   ],
   "source": [
    "train.columns"
   ]
  },
  {
   "cell_type": "code",
   "execution_count": 5,
   "id": "c72c86ac-8691-41c1-a54f-a9c2660121db",
   "metadata": {},
   "outputs": [
    {
     "data": {
      "text/html": [
       "<div>\n",
       "<style scoped>\n",
       "    .dataframe tbody tr th:only-of-type {\n",
       "        vertical-align: middle;\n",
       "    }\n",
       "\n",
       "    .dataframe tbody tr th {\n",
       "        vertical-align: top;\n",
       "    }\n",
       "\n",
       "    .dataframe thead th {\n",
       "        text-align: right;\n",
       "    }\n",
       "</style>\n",
       "<table border=\"1\" class=\"dataframe\">\n",
       "  <thead>\n",
       "    <tr style=\"text-align: right;\">\n",
       "      <th></th>\n",
       "      <th>air_inflow</th>\n",
       "      <th>air_end_temp</th>\n",
       "      <th>out_pressure</th>\n",
       "      <th>motor_current</th>\n",
       "      <th>motor_rpm</th>\n",
       "      <th>motor_temp</th>\n",
       "      <th>motor_vibe</th>\n",
       "      <th>type</th>\n",
       "    </tr>\n",
       "  </thead>\n",
       "  <tbody>\n",
       "    <tr>\n",
       "      <th>0</th>\n",
       "      <td>3.04</td>\n",
       "      <td>60.24</td>\n",
       "      <td>0.7</td>\n",
       "      <td>39.34</td>\n",
       "      <td>3219.0</td>\n",
       "      <td>75.77</td>\n",
       "      <td>3.79</td>\n",
       "      <td>5</td>\n",
       "    </tr>\n",
       "    <tr>\n",
       "      <th>1</th>\n",
       "      <td>3.15</td>\n",
       "      <td>61.63</td>\n",
       "      <td>0.7</td>\n",
       "      <td>40.70</td>\n",
       "      <td>3330.0</td>\n",
       "      <td>77.00</td>\n",
       "      <td>3.85</td>\n",
       "      <td>7</td>\n",
       "    </tr>\n",
       "  </tbody>\n",
       "</table>\n",
       "</div>"
      ],
      "text/plain": [
       "   air_inflow  air_end_temp  out_pressure  motor_current  motor_rpm  \\\n",
       "0        3.04         60.24           0.7          39.34     3219.0   \n",
       "1        3.15         61.63           0.7          40.70     3330.0   \n",
       "\n",
       "   motor_temp  motor_vibe  type  \n",
       "0       75.77        3.79     5  \n",
       "1       77.00        3.85     7  "
      ]
     },
     "execution_count": 5,
     "metadata": {},
     "output_type": "execute_result"
    }
   ],
   "source": [
    "train.head(2)"
   ]
  },
  {
   "cell_type": "code",
   "execution_count": 6,
   "id": "c68c3e48-0a70-48bf-98c6-5b7161e24e00",
   "metadata": {},
   "outputs": [],
   "source": [
    "train[\"log_air_inflow\"] = np.log1p(train[\"air_inflow\"].values) \n",
    "train[\"log_air_end_temp\"] = np.log1p(train[\"air_end_temp\"].values) \n",
    "train[\"log_motor_current\"] = np.log1p(train[\"motor_current\"].values) \n",
    "train[\"log_motor_rpm\"] = np.log1p(train[\"motor_rpm\"].values) \n",
    "train[\"log_motor_vibe\"] = np.log1p(train[\"motor_vibe\"].values) \n",
    "\n",
    "train[\"specific_power\"] = train[\"motor_current\"] / train[\"air_inflow\"] \n",
    "train[\"compression_ratio\"] = train[\"out_pressure\"] / train[\"air_end_temp\"] \n",
    "train[\"motor_efficiency\"] = train[\"motor_rpm\"] / train[\"motor_current\"]  \n",
    "train[\"temperature_difference\"] = train[\"air_end_temp\"] - train[\"motor_temp\"] \n",
    "train[\"pr_ratio\"] = train[\"out_pressure\"] / train[\"motor_rpm\"] \n",
    "train[\"power_consumption\"] = train[\"motor_current\"] * train[\"motor_rpm\"] \n",
    "train[\"vr_ratio\"] = train[\"motor_vibe\"] / train[\"motor_rpm\"] \n",
    "train[\"fp_ratio\"] = train[\"air_inflow\"] / train[\"out_pressure\"] \n",
    "train[\"tm_ratio\"] = train[\"air_end_temp\"] / train[\"motor_temp\"] \n",
    "train[\"motor_load_factor\"] = train[\"motor_current\"] / train[\"motor_temp\"] \n",
    "train[\"pv_ratio\"] = train[\"out_pressure\"] / train[\"motor_vibe\"] \n",
    "train[\"temperature_change_rate\"] = (train[\"air_end_temp\"] - train[\"motor_temp\"]) / train[\"air_inflow\"] \n",
    "\n",
    "# get horsepower features \n",
    "hp = {0: 30, 1: 20, 2: 10, 3: 50, 4: 30, 5: 30, 6: 30, 7: 30} \n",
    "hp_values = [] \n",
    "types = train[\"type\"].values \n",
    "for i in range(len(types)): \n",
    "    hp_values.append(hp[types[i]]) \n",
    "\n",
    "train[\"hp\"] = hp_values \n",
    "train[\"horsepower_efficiency\"] = train[\"motor_current\"] / train[\"hp\"] "
   ]
  },
  {
   "cell_type": "code",
   "execution_count": 7,
   "id": "5cf4a62f-9b7a-43ec-aa59-010ac97153c6",
   "metadata": {},
   "outputs": [],
   "source": [
    "test[\"log_air_inflow\"] = np.log1p(test[\"air_inflow\"].values) \n",
    "test[\"log_air_end_temp\"] = np.log1p(test[\"air_end_temp\"].values) \n",
    "test[\"log_motor_current\"] = np.log1p(test[\"motor_current\"].values) \n",
    "test[\"log_motor_rpm\"] = np.log1p(test[\"motor_rpm\"].values) \n",
    "test[\"log_motor_vibe\"] = np.log1p(test[\"motor_vibe\"].values) \n",
    "\n",
    "test[\"specific_power\"] = test[\"motor_current\"] / test[\"air_inflow\"] \n",
    "test[\"compression_ratio\"] = test[\"out_pressure\"] / test[\"air_end_temp\"] \n",
    "test[\"motor_efficiency\"] = test[\"motor_rpm\"] / test[\"motor_current\"]  \n",
    "test[\"temperature_difference\"] = test[\"air_end_temp\"] - test[\"motor_temp\"] \n",
    "test[\"pr_ratio\"] = test[\"out_pressure\"] / test[\"motor_rpm\"] \n",
    "test[\"power_consumption\"] = test[\"motor_current\"] * test[\"motor_rpm\"] \n",
    "test[\"vr_ratio\"] = test[\"motor_vibe\"] / test[\"motor_rpm\"] \n",
    "test[\"fp_ratio\"] = test[\"air_inflow\"] / test[\"out_pressure\"] \n",
    "test[\"tm_ratio\"] = test[\"air_end_temp\"] / test[\"motor_temp\"] \n",
    "test[\"motor_load_factor\"] = test[\"motor_current\"] / test[\"motor_temp\"] \n",
    "test[\"pv_ratio\"] = test[\"out_pressure\"] / test[\"motor_vibe\"] \n",
    "test[\"temperature_change_rate\"] = (test[\"air_end_temp\"] - test[\"motor_temp\"]) / test[\"air_inflow\"] \n",
    "\n",
    "test_hp_values = [] \n",
    "test_types = test[\"type\"].values \n",
    "for i in range(len(test_types)): \n",
    "    test_hp_values.append(hp[test_types[i]]) \n",
    "    \n",
    "test[\"hp\"] = test_hp_values \n",
    "test[\"horsepower_efficiency\"] = test[\"motor_current\"] / test[\"hp\"] "
   ]
  },
  {
   "cell_type": "code",
   "execution_count": 10,
   "id": "eaa30d1d-6a2c-483a-a747-ca0f2e73cb5e",
   "metadata": {},
   "outputs": [],
   "source": [
    "scaler = StandardScaler() \n",
    "X_train = scaler.fit_transform(train)  "
   ]
  },
  {
   "cell_type": "code",
   "execution_count": 11,
   "id": "bd312d63-4bed-4dad-b634-aca23c52cd69",
   "metadata": {},
   "outputs": [],
   "source": [
    "class AutoEncoder(nn.Module): \n",
    "    def __init__(self, input_dim): \n",
    "        super(AutoEncoder, self).__init__() \n",
    "        self.input_dim = input_dim\n",
    "        self.encoder = nn.Sequential(\n",
    "            nn.Linear(self.input_dim, 10), \n",
    "            nn.Tanh(), \n",
    "            nn.Linear(10, 5) \n",
    "        ) \n",
    "        self.decoder = nn.Sequential(\n",
    "            nn.Linear(5, 10),\n",
    "            nn.Tanh(), \n",
    "            nn.Linear(10, self.input_dim) \n",
    "        ) \n",
    "    def forward(self, x): \n",
    "        encoded = self.encoder(x) \n",
    "        decoded = self.decoder(encoded) \n",
    "        return decoded"
   ]
  },
  {
   "cell_type": "code",
   "execution_count": 12,
   "id": "89342c8b-6c1a-48ed-8770-cfb41eab41ff",
   "metadata": {},
   "outputs": [
    {
     "data": {
      "text/plain": [
       "torch.Size([2463, 27])"
      ]
     },
     "execution_count": 12,
     "metadata": {},
     "output_type": "execute_result"
    }
   ],
   "source": [
    "batch_size = 64\n",
    "X_train = torch.tensor(X_train).float() \n",
    "X_train.shape"
   ]
  },
  {
   "cell_type": "code",
   "execution_count": 13,
   "id": "944a8cae-19e6-4440-8edf-0ba9c3b4b241",
   "metadata": {},
   "outputs": [],
   "source": [
    "train_data = TensorDataset(X_train) \n",
    "train_sampler = RandomSampler(train_data) \n",
    "train_dataloader = DataLoader(train_data, sampler=train_sampler, batch_size=batch_size)  "
   ]
  },
  {
   "cell_type": "code",
   "execution_count": 16,
   "id": "685dae0b-fb10-4889-b036-ee8d473dc091",
   "metadata": {},
   "outputs": [
    {
     "data": {
      "application/vnd.jupyter.widget-view+json": {
       "model_id": "241a5d162ef74401a79c958d30696c92",
       "version_major": 2,
       "version_minor": 0
      },
      "text/plain": [
       "Epochs:   0%|          | 0/4000 [00:00<?, ?it/s]"
      ]
     },
     "metadata": {},
     "output_type": "display_data"
    },
    {
     "name": "stdout",
     "output_type": "stream",
     "text": [
      "current average loss : 0.0018335529916489928 | current best loss : 0.0018335529916489928\n",
      "current average loss : 0.0008782510644195076 | current best loss : 0.0008722459807848701\n",
      "current average loss : 0.00040704290791510197 | current best loss : 0.00039637133811946766\n",
      "current average loss : 0.00031946823582984507 | current best loss : 0.00031472397229383484\n",
      "current average loss : 0.0002981141823021552 | current best loss : 0.0002823344339282276\n",
      "current average loss : 0.00026359785130271356 | current best loss : 0.00026359785130271356\n",
      "current average loss : 0.0002673309649346778 | current best loss : 0.00024997892204481055\n",
      "current average loss : 0.0002530474396338925 | current best loss : 0.00024007402326111705\n",
      "current average loss : 0.00023695571163000586 | current best loss : 0.0002336747883162342\n",
      "current average loss : 0.0002280120228160507 | current best loss : 0.0002280120228160507\n",
      "current average loss : 0.00022574130278558304 | current best loss : 0.00022339784444715732\n",
      "current average loss : 0.00021995506279218273 | current best loss : 0.00021883876821121728\n",
      "current average loss : 0.00022699247683004403 | current best loss : 0.00021497887754753136\n",
      "current average loss : 0.00021378760291741064 | current best loss : 0.00021299182135874452\n",
      "current average loss : 0.00021171931719156698 | current best loss : 0.00020920710215786807\n",
      "current average loss : 0.00021073417118690812 | current best loss : 0.00020778165661538832\n",
      "current average loss : 0.00020663928164419933 | current best loss : 0.00020542669442828553\n",
      "current average loss : 0.0002041534240468023 | current best loss : 0.00020399232445738444\n",
      "current average loss : 0.00020290567287399122 | current best loss : 0.0002021432342306257\n",
      "best loss: 0.00020075917209629924 | best epoch: 3930\n"
     ]
    }
   ],
   "source": [
    "device = torch.device(\"cuda\") \n",
    "input_dim = X_train.shape[1] \n",
    "d_model = 12\n",
    "nhead = 4 \n",
    "num_layers = 2 \n",
    "dim_feedforward = 32\n",
    "\n",
    "model = AutoEncoder(input_dim)\n",
    "model = model.to(device) \n",
    "optimizer = AdamW(model.parameters(), lr=1e-3)\n",
    "loss_func = nn.MSELoss() \n",
    "best_loss = 99999999999 \n",
    "best_epoch = -1 \n",
    "epochs = 4000 \n",
    "total_steps = len(train_dataloader) * epochs \n",
    "scheduler = get_linear_schedule_with_warmup(optimizer, num_warmup_steps = 0, num_training_steps = total_steps) \n",
    "\n",
    "model.zero_grad() \n",
    "for epoch in tqdm(range(epochs), position=0, leave=True, desc=\"Epochs\", total=epochs): \n",
    "    train_loss = 0\n",
    "    model.train() \n",
    "    for step, batch in enumerate(train_dataloader):\n",
    "        batch = tuple(t.to(device) for t in batch) \n",
    "        b_inputs = batch[0] \n",
    "        decoded = model(b_inputs) \n",
    "        loss = loss_func(decoded, b_inputs) \n",
    "        train_loss += loss.item() \n",
    "        loss.backward() \n",
    "        torch.nn.utils.clip_grad_norm_(model.parameters(), 1.0) \n",
    "        optimizer.step() \n",
    "        scheduler.step() \n",
    "        model.zero_grad() \n",
    "    avg_train_loss = train_loss / len(train_dataloader) \n",
    "    if avg_train_loss < best_loss:\n",
    "        best_loss = avg_train_loss \n",
    "        best_epoch = epoch \n",
    "        torch.save(model.state_dict(), \"FE_CLEAN.pt\") \n",
    "    \n",
    "    if epoch%200 == 0 and epoch > 0: \n",
    "        print(f\"current average loss : {avg_train_loss} | current best loss : {best_loss}\")\n",
    "\n",
    "print(f\"best loss: {best_loss} | best epoch: {best_epoch}\") "
   ]
  },
  {
   "cell_type": "code",
   "execution_count": 17,
   "id": "0b7bb63e-989d-4b91-9954-d03540be87e8",
   "metadata": {},
   "outputs": [],
   "source": [
    "X_test = scaler.transform(test)  \n",
    "batch_size = 1 \n",
    "X_test = torch.tensor(X_test).float() \n",
    "test_data = TensorDataset(X_test) \n",
    "test_sampler = SequentialSampler(test_data) \n",
    "test_dataloader = DataLoader(test_data, sampler=test_sampler, batch_size=1)  "
   ]
  },
  {
   "cell_type": "code",
   "execution_count": 18,
   "id": "c05b7e8b-41c9-43fc-8208-462d265f4314",
   "metadata": {},
   "outputs": [
    {
     "name": "stdout",
     "output_type": "stream",
     "text": [
      "<All keys matched successfully>\n"
     ]
    },
    {
     "data": {
      "text/plain": [
       "AutoEncoder(\n",
       "  (encoder): Sequential(\n",
       "    (0): Linear(in_features=27, out_features=10, bias=True)\n",
       "    (1): Tanh()\n",
       "    (2): Linear(in_features=10, out_features=5, bias=True)\n",
       "  )\n",
       "  (decoder): Sequential(\n",
       "    (0): Linear(in_features=5, out_features=10, bias=True)\n",
       "    (1): Tanh()\n",
       "    (2): Linear(in_features=10, out_features=27, bias=True)\n",
       "  )\n",
       ")"
      ]
     },
     "execution_count": 18,
     "metadata": {},
     "output_type": "execute_result"
    }
   ],
   "source": [
    "device = torch.device(\"cuda\") \n",
    "input_dim = X_test.shape[1]\n",
    "best_model = AutoEncoder(input_dim) \n",
    "checkpoint = torch.load(\"FE_CLEAN.pt\") \n",
    "print(best_model.load_state_dict(checkpoint))  \n",
    "best_model.to(device)"
   ]
  },
  {
   "cell_type": "code",
   "execution_count": 22,
   "id": "6f778e44-91d7-4123-b6bf-3027d4b4aab5",
   "metadata": {},
   "outputs": [
    {
     "data": {
      "application/vnd.jupyter.widget-view+json": {
       "model_id": "ce6cda2128aa4d3cbaa55b609862786e",
       "version_major": 2,
       "version_minor": 0
      },
      "text/plain": [
       "0it [00:00, ?it/s]"
      ]
     },
     "metadata": {},
     "output_type": "display_data"
    }
   ],
   "source": [
    "train_data = TensorDataset(X_train) \n",
    "train_sampler = SequentialSampler(train_data) \n",
    "train_dataloader = DataLoader(train_data, sampler=train_sampler, batch_size=1)   \n",
    "\n",
    "train_mse_scores = [] \n",
    "\n",
    "with torch.no_grad():\n",
    "    for step, batch in tqdm(enumerate(train_dataloader), position=0, leave=True): \n",
    "        batch = tuple(t.to(device) for t in batch) \n",
    "        b_inputs = batch[0]   \n",
    "        decoded = best_model(b_inputs) \n",
    "        loss = loss_func(decoded, b_inputs)  \n",
    "        train_mse_scores.append(loss.item())  "
   ]
  },
  {
   "cell_type": "code",
   "execution_count": 19,
   "id": "993ef184-cbd4-4797-885b-1251a78d99f3",
   "metadata": {},
   "outputs": [
    {
     "data": {
      "application/vnd.jupyter.widget-view+json": {
       "model_id": "3f532e15eb3543e9956f4248de3fa556",
       "version_major": 2,
       "version_minor": 0
      },
      "text/plain": [
       "0it [00:00, ?it/s]"
      ]
     },
     "metadata": {},
     "output_type": "display_data"
    }
   ],
   "source": [
    "loss_func = nn.MSELoss() \n",
    "\n",
    "best_model.eval() \n",
    "\n",
    "test_mse_scores = [] \n",
    "\n",
    "with torch.no_grad():\n",
    "    for step, batch in tqdm(enumerate(test_dataloader), position=0, leave=True): \n",
    "        batch = tuple(t.to(device) for t in batch) \n",
    "        b_inputs = batch[0]   \n",
    "        decoded = best_model(b_inputs) \n",
    "        loss = loss_func(decoded, b_inputs)  \n",
    "        test_mse_scores.append(loss.item())  "
   ]
  },
  {
   "cell_type": "code",
   "execution_count": 23,
   "id": "0199e970-a5bd-4fe0-a9a4-0c856e4a26ce",
   "metadata": {},
   "outputs": [
    {
     "data": {
      "text/plain": [
       "9852"
      ]
     },
     "execution_count": 23,
     "metadata": {},
     "output_type": "execute_result"
    }
   ],
   "source": [
    "full_mse_scores = train_mse_scores + test_mse_scores \n",
    "len(full_mse_scores) "
   ]
  },
  {
   "cell_type": "code",
   "execution_count": 25,
   "id": "9da5a8e9-4261-403f-a456-fb11048bd870",
   "metadata": {},
   "outputs": [
    {
     "data": {
      "text/plain": [
       "2463"
      ]
     },
     "execution_count": 25,
     "metadata": {},
     "output_type": "execute_result"
    }
   ],
   "source": [
    "len(train_mse_scores)"
   ]
  },
  {
   "cell_type": "code",
   "execution_count": 24,
   "id": "6f91bbb0-8d24-4b1f-b52d-de927b80f7b3",
   "metadata": {},
   "outputs": [],
   "source": [
    "def mad_score(points): \n",
    "    m = np.median(points) \n",
    "    ad = np.abs(points - m) \n",
    "    mad = np.median(ad) \n",
    "    return 0.6745 * ad / mad \n",
    "\n",
    "z_scores = mad_score(full_mse_scores)"
   ]
  },
  {
   "cell_type": "code",
   "execution_count": 28,
   "id": "1b71714a-0e20-4093-b84f-fed40c8b43b1",
   "metadata": {},
   "outputs": [
    {
     "name": "stdout",
     "output_type": "stream",
     "text": [
      "gamma:3.5, cnt:1442\n",
      "gamma:5.5, cnt:933\n",
      "gamma:10.5, cnt:462\n",
      "gamma:20.5, cnt:355\n",
      "gamma:30.5, cnt:344\n",
      "gamma:40.5, cnt:344\n",
      "gamma:50.5, cnt:344\n",
      "gamma:60.5, cnt:344\n",
      "gamma:70.5, cnt:344\n",
      "gamma:80.5, cnt:344\n",
      "gamma:90.5, cnt:344\n",
      "gamma:100.5, cnt:344\n",
      "gamma:110.5, cnt:344\n",
      "gamma:120.5, cnt:344\n",
      "gamma:130.5, cnt:344\n",
      "gamma:140.5, cnt:344\n",
      "gamma:150.5, cnt:344\n",
      "gamma:160.5, cnt:344\n",
      "gamma:170.5, cnt:344\n",
      "gamma:180.5, cnt:344\n",
      "gamma:190.5, cnt:344\n",
      "gamma:200.5, cnt:344\n",
      "gamma:210.5, cnt:344\n",
      "gamma:220.5, cnt:344\n",
      "gamma:230.5, cnt:344\n",
      "gamma:240.5, cnt:344\n",
      "gamma:300.5, cnt:344\n",
      "gamma:1000.5, cnt:340\n"
     ]
    }
   ],
   "source": [
    "gammas = [3.5, 5.5, 10.5, 20.5, 30.5, 40.5, 50.5, 60.5, 70.5, 80.5, 90.5, 100.5, 110.5, 120.5, 130.5, 140.5, 150.5, 160.5, 170.5, 180.5, 190.5, 200.5, 210.5, 220.5, 230.5, 240.5, 300.5, 1000.5] \n",
    "\n",
    "for gamma in gammas: \n",
    "    outliers = z_scores > gamma \n",
    "    outliers = outliers.astype(int)  \n",
    "    outliers = outliers[2463:] \n",
    "    submission = pd.read_csv(\"answer_sample.csv\") \n",
    "    submission[\"label\"] = outliers\n",
    "    \n",
    "    cnt = 0 \n",
    "    for i in range(len(outliers)): \n",
    "        if outliers[i] == 1: \n",
    "            cnt += 1 \n",
    "    \n",
    "    if gamma == 300.5:\n",
    "        submission.to_csv(f\"FEAE_{gamma}_cnt_{cnt}.csv\",index=False)  \n",
    "    \n",
    "    print(f\"gamma:{gamma}, cnt:{cnt}\") \n"
   ]
  },
  {
   "cell_type": "code",
   "execution_count": 17,
   "id": "631094f2-f00d-4e72-b60d-2337ea0ca68e",
   "metadata": {},
   "outputs": [],
   "source": [
    "prev = pd.read_csv(\"FEAE_300.5_cnt_344.csv\") \n",
    "\n",
    "labels = [] \n",
    "\n",
    "prev_labels = prev[\"label\"].values \n",
    "\n",
    "for i in range(len(prev_labels)): \n",
    "    if prev_labels[i] == 1: \n",
    "        labels.append(i) "
   ]
  },
  {
   "cell_type": "code",
   "execution_count": 20,
   "id": "7a66b982-8b4a-4db5-b00c-07275a8348ef",
   "metadata": {},
   "outputs": [],
   "source": [
    "outlier_df = test.iloc[labels] \n"
   ]
  },
  {
   "cell_type": "code",
   "execution_count": 21,
   "id": "5e42678c-c04a-40d1-9acd-fd28c5fa5620",
   "metadata": {},
   "outputs": [
    {
     "name": "stdout",
     "output_type": "stream",
     "text": [
      "143\n",
      "0\n",
      "27\n",
      "26\n",
      "13\n",
      "30\n",
      "101\n",
      "4\n"
     ]
    }
   ],
   "source": [
    "for i in range(8): \n",
    "    print(outlier_df[outlier_df[\"type\"]==i].shape[0])"
   ]
  },
  {
   "cell_type": "code",
   "execution_count": null,
   "id": "4ad519e9-a41c-4192-9233-ba08ca4c5512",
   "metadata": {},
   "outputs": [],
   "source": []
  }
 ],
 "metadata": {
  "kernelspec": {
   "display_name": "Python 3 (ipykernel)",
   "language": "python",
   "name": "python3"
  },
  "language_info": {
   "codemirror_mode": {
    "name": "ipython",
    "version": 3
   },
   "file_extension": ".py",
   "mimetype": "text/x-python",
   "name": "python",
   "nbconvert_exporter": "python",
   "pygments_lexer": "ipython3",
   "version": "3.8.12"
  }
 },
 "nbformat": 4,
 "nbformat_minor": 5
}
