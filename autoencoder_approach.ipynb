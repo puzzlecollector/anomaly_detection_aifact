{
 "cells": [
  {
   "cell_type": "code",
   "execution_count": 56,
   "id": "84dcc366-d886-4508-bbf1-2956ce6ee509",
   "metadata": {},
   "outputs": [],
   "source": [
    "import numpy as np\n",
    "import pandas as pd\n",
    "from scipy.stats import zscore \n",
    "from sklearn.cluster import KMeans \n",
    "from sklearn.preprocessing import Normalizer, MinMaxScaler\n",
    "from sklearn.pipeline import Pipeline \n",
    "import torch\n",
    "import torch.nn as nn\n",
    "from torch.utils.data import Dataset, DataLoader, TensorDataset, RandomSampler, SequentialSampler \n",
    "from tqdm.auto import tqdm"
   ]
  },
  {
   "cell_type": "code",
   "execution_count": 21,
   "id": "838e23b9-6af8-4356-a849-b1803e1be76c",
   "metadata": {},
   "outputs": [],
   "source": [
    "train = pd.read_csv(\"train_data.csv\") \n",
    "test = pd.read_csv(\"test_data.csv\") "
   ]
  },
  {
   "cell_type": "code",
   "execution_count": 37,
   "id": "428dc8b1-9217-4715-b734-a9ea642b6dcb",
   "metadata": {},
   "outputs": [],
   "source": [
    "pipeline = Pipeline([(\"normalizer\", Normalizer()), \n",
    "                     (\"scaler\", MinMaxScaler())]) "
   ]
  },
  {
   "cell_type": "code",
   "execution_count": 38,
   "id": "a09fe5bc-c38b-41e0-ba74-18573564c24a",
   "metadata": {},
   "outputs": [
    {
     "data": {
      "text/plain": [
       "Pipeline(steps=[('normalizer', Normalizer()), ('scaler', MinMaxScaler())])"
      ]
     },
     "execution_count": 38,
     "metadata": {},
     "output_type": "execute_result"
    }
   ],
   "source": [
    "pipeline.fit(train)"
   ]
  },
  {
   "cell_type": "code",
   "execution_count": 39,
   "id": "6395ebb0-b69e-4522-a8de-3ab0af2253e3",
   "metadata": {},
   "outputs": [],
   "source": [
    "X_train_transformed = pipeline.transform(train) "
   ]
  },
  {
   "cell_type": "code",
   "execution_count": 42,
   "id": "a3237aa3-0d54-477e-b08a-212120b2a38b",
   "metadata": {},
   "outputs": [
    {
     "data": {
      "text/plain": [
       "(2463, 8)"
      ]
     },
     "execution_count": 42,
     "metadata": {},
     "output_type": "execute_result"
    }
   ],
   "source": [
    "X_train_transformed.shape"
   ]
  },
  {
   "cell_type": "code",
   "execution_count": 46,
   "id": "1a605842-a64c-4a7a-8bfd-b341ec78d9d7",
   "metadata": {},
   "outputs": [],
   "source": [
    "class AutoEncoder(nn.Module): \n",
    "    def __init__(self, input_dim): \n",
    "        self.input_dim = input_dim\n",
    "        super(AutoEncoder, self).__init__() \n",
    "        self.encoder = nn.Sequential(\n",
    "            nn.Linear(self.input_dim, 6), \n",
    "            nn.ELU(), \n",
    "            nn.Linear(6, 4), \n",
    "            nn.ELU(), \n",
    "            nn.Linear(4,2), \n",
    "            nn.ELU()\n",
    "        ) \n",
    "        self.decoder = nn.Sequential(\n",
    "            nn.Linear(2, 4), \n",
    "            nn.ELU(), \n",
    "            nn.Linear(4, 6), \n",
    "            nn.ELU(), \n",
    "            nn.Linear(6, self.input_dim)\n",
    "        ) \n",
    "    def forward(self, x):\n",
    "        encoded = self.encoder(x) \n",
    "        decoded = self.decoder(encoded) \n",
    "        return decoded"
   ]
  },
  {
   "cell_type": "code",
   "execution_count": 48,
   "id": "f753e16f-71a1-4a9d-9d6d-47aa294c89ee",
   "metadata": {},
   "outputs": [
    {
     "data": {
      "text/plain": [
       "AutoEncoder(\n",
       "  (encoder): Sequential(\n",
       "    (0): Linear(in_features=8, out_features=6, bias=True)\n",
       "    (1): ELU(alpha=1.0)\n",
       "    (2): Linear(in_features=6, out_features=4, bias=True)\n",
       "    (3): ELU(alpha=1.0)\n",
       "    (4): Linear(in_features=4, out_features=2, bias=True)\n",
       "    (5): ELU(alpha=1.0)\n",
       "  )\n",
       "  (decoder): Sequential(\n",
       "    (0): Linear(in_features=2, out_features=4, bias=True)\n",
       "    (1): ELU(alpha=1.0)\n",
       "    (2): Linear(in_features=4, out_features=6, bias=True)\n",
       "    (3): ELU(alpha=1.0)\n",
       "    (4): Linear(in_features=6, out_features=8, bias=True)\n",
       "  )\n",
       ")"
      ]
     },
     "execution_count": 48,
     "metadata": {},
     "output_type": "execute_result"
    }
   ],
   "source": [
    "model = AutoEncoder(X_train_transformed.shape[1]) \n",
    "model"
   ]
  },
  {
   "cell_type": "code",
   "execution_count": 53,
   "id": "a6688d71-ee8d-4099-904f-a2d18d7b5a66",
   "metadata": {},
   "outputs": [
    {
     "data": {
      "text/plain": [
       "torch.Size([2463, 8])"
      ]
     },
     "execution_count": 53,
     "metadata": {},
     "output_type": "execute_result"
    }
   ],
   "source": [
    "X_train_transformed = torch.tensor(X_train_transformed).float() \n",
    "\n",
    "X_train_transformed.shape"
   ]
  },
  {
   "cell_type": "code",
   "execution_count": 54,
   "id": "bb8940fa-8510-4c06-8e8c-ce363b3117f6",
   "metadata": {},
   "outputs": [],
   "source": [
    "train_data = TensorDataset(X_train_transformed) \n",
    "train_sampler = RandomSampler(train_data) \n",
    "train_dataloader = DataLoader(train_data, sampler=train_sampler, batch_size=32) "
   ]
  },
  {
   "cell_type": "code",
   "execution_count": 74,
   "id": "346c0f8f-d443-46f3-b5ec-6f996127f83a",
   "metadata": {},
   "outputs": [
    {
     "data": {
      "application/vnd.jupyter.widget-view+json": {
       "model_id": "e4780868f3be457faca9781fd1363dcc",
       "version_major": 2,
       "version_minor": 0
      },
      "text/plain": [
       "Epochs:   0%|          | 0/2000 [00:00<?, ?it/s]"
      ]
     },
     "metadata": {},
     "output_type": "display_data"
    },
    {
     "name": "stdout",
     "output_type": "stream",
     "text": [
      "epoch : 100 | train loss : 0.3221131565514952\n",
      "epoch : 200 | train loss : 0.31695394427515566\n",
      "epoch : 300 | train loss : 0.3018198012141511\n",
      "epoch : 400 | train loss : 0.24394843191839755\n",
      "epoch : 500 | train loss : 0.040167459985241294\n",
      "epoch : 600 | train loss : 0.038549523713300005\n",
      "epoch : 700 | train loss : 0.03713708431314444\n",
      "epoch : 800 | train loss : 0.03650548389850883\n",
      "epoch : 900 | train loss : 0.036080470024899114\n",
      "epoch : 1000 | train loss : 0.0353011174047424\n",
      "epoch : 1100 | train loss : 0.03510962744621793\n",
      "epoch : 1200 | train loss : 0.035686783343408024\n",
      "epoch : 1300 | train loss : 0.03437821094485116\n",
      "epoch : 1400 | train loss : 0.034239507807797054\n",
      "epoch : 1500 | train loss : 0.034702274129813304\n",
      "epoch : 1600 | train loss : 0.03413312944758218\n",
      "epoch : 1700 | train loss : 0.03415448812302202\n",
      "epoch : 1800 | train loss : 0.034417207149090245\n",
      "epoch : 1900 | train loss : 0.034078514167049434\n",
      "epoch : 2000 | train loss : 0.03393981237968546\n"
     ]
    }
   ],
   "source": [
    "device = torch.device(\"cuda\") \n",
    "model = model.to(device) \n",
    "optimizer = torch.optim.Adam(model.parameters(), lr=1e-3)\n",
    "criterion = nn.MSELoss() \n",
    "\n",
    "for epoch in tqdm(range(1, 2001), position=0, leave=True, desc=\"Epochs\"):\n",
    "    train_loss = 0 \n",
    "    for step, batch in enumerate(train_dataloader):\n",
    "        batch = tuple(t.to(device) for t in batch) \n",
    "        b_inputs = batch[0] \n",
    "        decoded = model(b_inputs)\n",
    "        loss = criterion(decoded, b_inputs) \n",
    "        train_loss += loss.item() \n",
    "        optimizer.zero_grad() \n",
    "        loss.backward() \n",
    "        optimizer.step()  \n",
    "    if epoch > 0 and epoch % 100 == 0: \n",
    "        print(f\"epoch : {epoch} | train loss : {train_loss}\") \n",
    "    "
   ]
  },
  {
   "cell_type": "code",
   "execution_count": 75,
   "id": "f42595d4-94c8-4ea2-8a5e-461621cfcb55",
   "metadata": {},
   "outputs": [],
   "source": [
    "torch.save(model.state_dict(), \"autoencoder_chkpt.pt\")"
   ]
  },
  {
   "cell_type": "code",
   "execution_count": 82,
   "id": "c259662e-c9a4-4468-8ca6-95e3034f17cf",
   "metadata": {},
   "outputs": [],
   "source": [
    "X_test_transformed = pipeline.transform(test) \n"
   ]
  },
  {
   "cell_type": "code",
   "execution_count": 86,
   "id": "79485fe0-4cf9-4fff-9ac5-86c2fbadcd58",
   "metadata": {},
   "outputs": [
    {
     "name": "stderr",
     "output_type": "stream",
     "text": [
      "/tmp/ipykernel_4452/3530811265.py:1: UserWarning: To copy construct from a tensor, it is recommended to use sourceTensor.clone().detach() or sourceTensor.clone().detach().requires_grad_(True), rather than torch.tensor(sourceTensor).\n",
      "  X_test_transformed = torch.tensor(X_test_transformed).float()\n"
     ]
    }
   ],
   "source": [
    "X_test_transformed = torch.tensor(X_test_transformed).float() \n",
    "\n",
    "test_data = TensorDataset(X_test_transformed) \n",
    "test_sampler = SequentialSampler(test_data) \n",
    "test_dataloader = DataLoader(test_data, sampler=test_sampler, batch_size=1) "
   ]
  },
  {
   "cell_type": "code",
   "execution_count": 87,
   "id": "8553990f-c0ea-453a-905f-bb9f9aa3b0d3",
   "metadata": {},
   "outputs": [
    {
     "data": {
      "application/vnd.jupyter.widget-view+json": {
       "model_id": "eb574eded77f4398bf0e80daf1f86a3d",
       "version_major": 2,
       "version_minor": 0
      },
      "text/plain": [
       "Reconstructing test dataset: 0it [00:00, ?it/s]"
      ]
     },
     "metadata": {},
     "output_type": "display_data"
    }
   ],
   "source": [
    "test_mse_scores = [] \n",
    "\n",
    "model.eval() \n",
    "\n",
    "with torch.no_grad(): \n",
    "    for step, batch in tqdm(enumerate(test_dataloader), position=0, leave=True, desc=\"Reconstructing test dataset\"): \n",
    "        batch = tuple(t.to(device) for t in batch) \n",
    "        b_inputs = batch[0] \n",
    "        decoded = model(b_inputs) \n",
    "        loss = criterion(decoded, b_inputs)\n",
    "        test_mse_scores.append(loss.item()) "
   ]
  },
  {
   "cell_type": "code",
   "execution_count": 91,
   "id": "a85f9694-df27-4ebd-8f0b-cd3d89dadc7c",
   "metadata": {},
   "outputs": [],
   "source": [
    "# using the median absolute deviation method to define outliers \n",
    "\n",
    "gamma = 3 \n",
    "\n",
    "def mad_score(points): \n",
    "    m = np.median(points)\n",
    "    ad = np.abs(points - m) \n",
    "    mad = np.median(ad) \n",
    "    return 0.6745 * ad / mad \n",
    "\n",
    "\n",
    "z_scores = mad_score(test_mse_scores) "
   ]
  },
  {
   "cell_type": "code",
   "execution_count": 93,
   "id": "596e97a1-33e3-4b50-b3d2-c571d390b168",
   "metadata": {},
   "outputs": [
    {
     "data": {
      "text/plain": [
       "array([False, False, False, ..., False, False, False])"
      ]
     },
     "execution_count": 93,
     "metadata": {},
     "output_type": "execute_result"
    }
   ],
   "source": [
    "outliers = z_scores > gamma \n",
    "\n",
    "outliers"
   ]
  },
  {
   "cell_type": "code",
   "execution_count": 95,
   "id": "b257bf8e-77b0-48e7-9b60-a4bef5d4d978",
   "metadata": {},
   "outputs": [
    {
     "data": {
      "text/plain": [
       "array([0, 0, 0, ..., 0, 0, 0])"
      ]
     },
     "execution_count": 95,
     "metadata": {},
     "output_type": "execute_result"
    }
   ],
   "source": [
    "outliers = outliers.astype(int) \n",
    "outliers"
   ]
  },
  {
   "cell_type": "code",
   "execution_count": 99,
   "id": "bb8edebe-754a-45b8-a074-4efc6eb34be6",
   "metadata": {},
   "outputs": [],
   "source": [
    "# 정상: 0, 이상: 1 \n",
    "submission = pd.read_csv(\"answer_sample.csv\") \n",
    "submission[\"label\"] = outliers "
   ]
  },
  {
   "cell_type": "code",
   "execution_count": 101,
   "id": "052aa48b-dccd-4099-b990-7957e09922af",
   "metadata": {},
   "outputs": [],
   "source": [
    "submission.to_csv(\"autoencoders.csv\", index=False) "
   ]
  },
  {
   "cell_type": "code",
   "execution_count": null,
   "id": "c9c368eb-f94d-41ae-821b-3530903142c9",
   "metadata": {},
   "outputs": [],
   "source": []
  },
  {
   "cell_type": "code",
   "execution_count": null,
   "id": "a518a4f8-47dc-4484-a19b-aee39747658f",
   "metadata": {},
   "outputs": [],
   "source": []
  }
 ],
 "metadata": {
  "kernelspec": {
   "display_name": "Python 3 (ipykernel)",
   "language": "python",
   "name": "python3"
  },
  "language_info": {
   "codemirror_mode": {
    "name": "ipython",
    "version": 3
   },
   "file_extension": ".py",
   "mimetype": "text/x-python",
   "name": "python",
   "nbconvert_exporter": "python",
   "pygments_lexer": "ipython3",
   "version": "3.8.12"
  }
 },
 "nbformat": 4,
 "nbformat_minor": 5
}
