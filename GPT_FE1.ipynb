{
 "cells": [
  {
   "cell_type": "code",
   "execution_count": 8,
   "id": "fb48c45f-611c-482e-a159-176c135c50c2",
   "metadata": {},
   "outputs": [],
   "source": [
    "import numpy as np \n",
    "import pandas as pd \n",
    "from sklearn.preprocessing import StandardScaler, PowerTransformer \n",
    "from sklearn.ensemble import IsolationForest \n",
    "from sklearn import svm  \n",
    "from sklearn.mixture import GaussianMixture \n",
    "from sklearn.isotonic import IsotonicRegression\n",
    "from torch.utils.data import Dataset, DataLoader, TensorDataset, RandomSampler, SequentialSampler\n",
    "from tqdm.auto import tqdm\n",
    "import torch\n",
    "import torch.nn as nn\n",
    "import torch.optim as optim\n",
    "from sklearn.decomposition import PCA "
   ]
  },
  {
   "cell_type": "code",
   "execution_count": 24,
   "id": "7e3a0308-c5c3-4487-9b27-bd4cb896c240",
   "metadata": {},
   "outputs": [],
   "source": [
    "train = pd.read_csv(\"train_data.csv\") \n",
    "test = pd.read_csv(\"test_data.csv\")  "
   ]
  },
  {
   "cell_type": "code",
   "execution_count": 25,
   "id": "02b99eb3-a0b1-43d5-9a5a-171e66122dc7",
   "metadata": {},
   "outputs": [],
   "source": [
    "# shuffle dataframe \n",
    "train = train.sample(frac=1, random_state=42).reset_index(drop=True) "
   ]
  },
  {
   "cell_type": "code",
   "execution_count": 11,
   "id": "5853365f-710b-4af9-9807-34d90c94bf73",
   "metadata": {},
   "outputs": [],
   "source": [
    "train[\"specific_power\"] = train[\"motor_current\"] / train[\"air_inflow\"] \n",
    "train[\"compression_ratio\"] = train[\"out_pressure\"] / train[\"air_end_temp\"] \n",
    "train[\"motor_efficiency\"] = train[\"motor_rpm\"] / train[\"motor_current\"]  \n",
    "train[\"temperature_difference\"] = train[\"air_end_temp\"] - train[\"motor_temp\"] \n",
    "train[\"pr_ratio\"] = train[\"out_pressure\"] / train[\"motor_rpm\"] "
   ]
  },
  {
   "cell_type": "code",
   "execution_count": 13,
   "id": "3e392f2f-b369-4432-bfc3-910bceb8a66a",
   "metadata": {},
   "outputs": [
    {
     "data": {
      "text/html": [
       "<div>\n",
       "<style scoped>\n",
       "    .dataframe tbody tr th:only-of-type {\n",
       "        vertical-align: middle;\n",
       "    }\n",
       "\n",
       "    .dataframe tbody tr th {\n",
       "        vertical-align: top;\n",
       "    }\n",
       "\n",
       "    .dataframe thead th {\n",
       "        text-align: right;\n",
       "    }\n",
       "</style>\n",
       "<table border=\"1\" class=\"dataframe\">\n",
       "  <thead>\n",
       "    <tr style=\"text-align: right;\">\n",
       "      <th></th>\n",
       "      <th>air_inflow</th>\n",
       "      <th>air_end_temp</th>\n",
       "      <th>out_pressure</th>\n",
       "      <th>motor_current</th>\n",
       "      <th>motor_rpm</th>\n",
       "      <th>motor_temp</th>\n",
       "      <th>motor_vibe</th>\n",
       "      <th>type</th>\n",
       "      <th>specific_power</th>\n",
       "      <th>compression_ratio</th>\n",
       "      <th>motor_efficiency</th>\n",
       "      <th>temperature_difference</th>\n",
       "      <th>pr_ratio</th>\n",
       "    </tr>\n",
       "  </thead>\n",
       "  <tbody>\n",
       "    <tr>\n",
       "      <th>0</th>\n",
       "      <td>3.04</td>\n",
       "      <td>60.24</td>\n",
       "      <td>0.7</td>\n",
       "      <td>39.34</td>\n",
       "      <td>3219.0</td>\n",
       "      <td>75.77</td>\n",
       "      <td>3.79</td>\n",
       "      <td>5</td>\n",
       "      <td>12.940789</td>\n",
       "      <td>0.011620</td>\n",
       "      <td>81.825114</td>\n",
       "      <td>-15.53</td>\n",
       "      <td>0.000217</td>\n",
       "    </tr>\n",
       "    <tr>\n",
       "      <th>1</th>\n",
       "      <td>3.15</td>\n",
       "      <td>61.63</td>\n",
       "      <td>0.7</td>\n",
       "      <td>40.70</td>\n",
       "      <td>3330.0</td>\n",
       "      <td>77.00</td>\n",
       "      <td>3.85</td>\n",
       "      <td>7</td>\n",
       "      <td>12.920635</td>\n",
       "      <td>0.011358</td>\n",
       "      <td>81.818182</td>\n",
       "      <td>-15.37</td>\n",
       "      <td>0.000210</td>\n",
       "    </tr>\n",
       "    <tr>\n",
       "      <th>2</th>\n",
       "      <td>2.12</td>\n",
       "      <td>48.04</td>\n",
       "      <td>0.7</td>\n",
       "      <td>27.41</td>\n",
       "      <td>2243.0</td>\n",
       "      <td>64.92</td>\n",
       "      <td>3.25</td>\n",
       "      <td>4</td>\n",
       "      <td>12.929245</td>\n",
       "      <td>0.014571</td>\n",
       "      <td>81.831448</td>\n",
       "      <td>-16.88</td>\n",
       "      <td>0.000312</td>\n",
       "    </tr>\n",
       "    <tr>\n",
       "      <th>3</th>\n",
       "      <td>0.88</td>\n",
       "      <td>56.38</td>\n",
       "      <td>0.7</td>\n",
       "      <td>14.00</td>\n",
       "      <td>3150.0</td>\n",
       "      <td>72.00</td>\n",
       "      <td>3.05</td>\n",
       "      <td>2</td>\n",
       "      <td>15.909091</td>\n",
       "      <td>0.012416</td>\n",
       "      <td>225.000000</td>\n",
       "      <td>-15.62</td>\n",
       "      <td>0.000222</td>\n",
       "    </tr>\n",
       "    <tr>\n",
       "      <th>4</th>\n",
       "      <td>2.53</td>\n",
       "      <td>53.49</td>\n",
       "      <td>0.7</td>\n",
       "      <td>32.74</td>\n",
       "      <td>2679.0</td>\n",
       "      <td>69.77</td>\n",
       "      <td>3.49</td>\n",
       "      <td>6</td>\n",
       "      <td>12.940711</td>\n",
       "      <td>0.013087</td>\n",
       "      <td>81.826512</td>\n",
       "      <td>-16.28</td>\n",
       "      <td>0.000261</td>\n",
       "    </tr>\n",
       "  </tbody>\n",
       "</table>\n",
       "</div>"
      ],
      "text/plain": [
       "   air_inflow  air_end_temp  out_pressure  motor_current  motor_rpm  \\\n",
       "0        3.04         60.24           0.7          39.34     3219.0   \n",
       "1        3.15         61.63           0.7          40.70     3330.0   \n",
       "2        2.12         48.04           0.7          27.41     2243.0   \n",
       "3        0.88         56.38           0.7          14.00     3150.0   \n",
       "4        2.53         53.49           0.7          32.74     2679.0   \n",
       "\n",
       "   motor_temp  motor_vibe  type  specific_power  compression_ratio  \\\n",
       "0       75.77        3.79     5       12.940789           0.011620   \n",
       "1       77.00        3.85     7       12.920635           0.011358   \n",
       "2       64.92        3.25     4       12.929245           0.014571   \n",
       "3       72.00        3.05     2       15.909091           0.012416   \n",
       "4       69.77        3.49     6       12.940711           0.013087   \n",
       "\n",
       "   motor_efficiency  temperature_difference  pr_ratio  \n",
       "0         81.825114                  -15.53  0.000217  \n",
       "1         81.818182                  -15.37  0.000210  \n",
       "2         81.831448                  -16.88  0.000312  \n",
       "3        225.000000                  -15.62  0.000222  \n",
       "4         81.826512                  -16.28  0.000261  "
      ]
     },
     "execution_count": 13,
     "metadata": {},
     "output_type": "execute_result"
    }
   ],
   "source": [
    "train.head()"
   ]
  },
  {
   "cell_type": "code",
   "execution_count": 26,
   "id": "f7b91e25-6d7f-4b67-b535-c6912d64415c",
   "metadata": {},
   "outputs": [],
   "source": [
    "test[\"specific_power\"] = test[\"motor_current\"] / test[\"air_inflow\"] \n",
    "test[\"compression_ratio\"] = test[\"out_pressure\"] / test[\"air_end_temp\"] \n",
    "test[\"motor_efficiency\"] = test[\"motor_rpm\"] / test[\"motor_current\"]  \n",
    "test[\"temperature_difference\"] = test[\"air_end_temp\"] - test[\"motor_temp\"] \n",
    "test[\"pr_ratio\"] = test[\"out_pressure\"] / test[\"motor_rpm\"] "
   ]
  },
  {
   "cell_type": "code",
   "execution_count": 14,
   "id": "1c5a5766-9003-461d-a005-1d544a0390d4",
   "metadata": {},
   "outputs": [],
   "source": [
    "scaler = StandardScaler() \n",
    "\n",
    "X_continuous = train[[\"air_inflow\", \"air_end_temp\", \"out_pressure\", \"motor_current\", \"motor_rpm\", \"motor_temp\", \"motor_vibe\", \"specific_power\", \"compression_ratio\", \"motor_efficiency\", \"temperature_difference\", \"pr_ratio\"]] \n",
    "X_categorical = train[\"type\"] \n",
    "\n",
    "X_continuous = scaler.fit_transform(X_continuous)  "
   ]
  },
  {
   "cell_type": "code",
   "execution_count": 30,
   "id": "c1d3b950-41df-4298-bb12-8d1b9964e569",
   "metadata": {},
   "outputs": [
    {
     "data": {
      "text/plain": [
       "torch.Size([2463, 12])"
      ]
     },
     "execution_count": 30,
     "metadata": {},
     "output_type": "execute_result"
    }
   ],
   "source": [
    "X_continuous.shape"
   ]
  },
  {
   "cell_type": "code",
   "execution_count": 16,
   "id": "c99657cb-f599-4fe6-a372-0c32b99d4d3e",
   "metadata": {},
   "outputs": [],
   "source": [
    "X_categorical_onehot = [] \n",
    "\n",
    "num_classes = len(np.unique(X_categorical)) \n",
    "\n",
    "for i in range(len(X_categorical)): \n",
    "    arr = [0 for _ in range(num_classes)] \n",
    "    arr[X_categorical[i]] = 1 \n",
    "    X_categorical_onehot.append(arr)  "
   ]
  },
  {
   "cell_type": "code",
   "execution_count": 17,
   "id": "4c0b547a-e9b1-4179-bd48-0892b82a86fb",
   "metadata": {},
   "outputs": [],
   "source": [
    "class AutoEncoder(nn.Module): \n",
    "    def __init__(self, input_dim, n_categories, embedding_dim): \n",
    "        super(AutoEncoder, self).__init__() \n",
    "        self.input_dim = input_dim\n",
    "        self.n_categories = n_categories \n",
    "        self.embedding_dim = embedding_dim \n",
    "        self.embedding = nn.Embedding(n_categories, embedding_dim) \n",
    "        self.encoder = nn.Sequential(\n",
    "            nn.Linear(self.input_dim + self.embedding_dim, 10), \n",
    "            nn.ELU(), \n",
    "            nn.Linear(10, 5)\n",
    "        ) \n",
    "        self.decoder = nn.Sequential(\n",
    "            nn.Linear(5, 10), \n",
    "            nn.ELU(), \n",
    "            nn.Linear(10, self.input_dim + self.embedding_dim)\n",
    "        ) \n",
    "    def forward(self, x_continuous, x_categorical): \n",
    "        x_embedded = self.embedding(x_categorical) \n",
    "        x_embedded = torch.mean(x_embedded, dim=1) \n",
    "        x = torch.cat([x_continuous, x_embedded], dim=1) \n",
    "        encoded = self.encoder(x) \n",
    "        decoded = self.decoder(encoded) \n",
    "        return x, decoded"
   ]
  },
  {
   "cell_type": "code",
   "execution_count": 18,
   "id": "4c66ebe3-2d1e-4c9f-96a1-430b8240d25f",
   "metadata": {},
   "outputs": [
    {
     "data": {
      "text/plain": [
       "torch.Size([2463, 8])"
      ]
     },
     "execution_count": 18,
     "metadata": {},
     "output_type": "execute_result"
    }
   ],
   "source": [
    "batch_size = 32 \n",
    "\n",
    "X_continuous = torch.tensor(X_continuous).float() \n",
    "X_categorical_onehot = torch.tensor(X_categorical_onehot, dtype=int) \n",
    "\n",
    "X_categorical_onehot.shape"
   ]
  },
  {
   "cell_type": "code",
   "execution_count": 19,
   "id": "563a31c7-5c6c-492c-a2af-865a87deb523",
   "metadata": {},
   "outputs": [],
   "source": [
    "train_data = TensorDataset(X_continuous, X_categorical_onehot) \n",
    "train_sampler = RandomSampler(train_data) \n",
    "train_dataloader = DataLoader(train_data, sampler=train_sampler, batch_size=32)  "
   ]
  },
  {
   "cell_type": "code",
   "execution_count": 22,
   "id": "14cda379-0e75-4520-b054-d017d68c8c77",
   "metadata": {},
   "outputs": [
    {
     "data": {
      "application/vnd.jupyter.widget-view+json": {
       "model_id": "8e4d1851d60d424ca221a908cc0a35a5",
       "version_major": 2,
       "version_minor": 0
      },
      "text/plain": [
       "Epochs:   0%|          | 0/2000 [00:00<?, ?it/s]"
      ]
     },
     "metadata": {},
     "output_type": "display_data"
    },
    {
     "name": "stdout",
     "output_type": "stream",
     "text": [
      "average train loss : 0.00010685088754935468\n",
      "average train loss : 4.324807496113981e-05\n",
      "average train loss : 2.856063623436388e-05\n",
      "average train loss : 5.5026583424194825e-05\n",
      "average train loss : 2.3380810489470605e-05\n",
      "average train loss : 2.0753952483502944e-05\n",
      "average train loss : 0.0001237795471185221\n",
      "average train loss : 2.0080460813773385e-05\n",
      "average train loss : 1.5156714334216894e-05\n",
      "best loss : 1.2946776548363101e-05 | best epoch: 1992\n"
     ]
    }
   ],
   "source": [
    "device = torch.device(\"cuda\") \n",
    "model = AutoEncoder(input_dim=X_continuous.shape[1], n_categories=8, embedding_dim=16) \n",
    "model = model.to(device) \n",
    "optimizer = torch.optim.Adam(model.parameters(), lr=1e-3)\n",
    "criterion = nn.MSELoss() \n",
    "best_loss = 99999999999 \n",
    "best_epoch = -1 \n",
    "\n",
    "epochs = 2000 \n",
    "\n",
    "for epoch in tqdm(range(epochs), position=0, leave=True, desc=\"Epochs\"):\n",
    "    train_loss = 0 \n",
    "    for step, batch in enumerate(train_dataloader):\n",
    "        batch = tuple(t.to(device) for t in batch) \n",
    "        b_continuous, b_categorical = batch  \n",
    "        b_inputs, decoded = model(b_continuous, b_categorical)\n",
    "        loss = criterion(decoded, b_inputs) \n",
    "        train_loss += loss.item() \n",
    "        optimizer.zero_grad() \n",
    "        loss.backward() \n",
    "        optimizer.step()  \n",
    "    avg_train_loss = train_loss / len(train_dataloader) \n",
    "    \n",
    "    if avg_train_loss < best_loss: \n",
    "        best_loss = avg_train_loss \n",
    "        best_epoch = epoch \n",
    "        torch.save(model.state_dict(), \"AE_Categorical_FE_GPT_.pt\")  \n",
    "    \n",
    "    if epoch%200 == 0 and epoch > 0: \n",
    "        print(f\"average train loss : {avg_train_loss}\") \n",
    "\n",
    "print(f\"best loss : {best_loss} | best epoch: {best_epoch}\")"
   ]
  },
  {
   "cell_type": "code",
   "execution_count": 27,
   "id": "a0cff176-a2ca-4abb-86ec-f7a42be52566",
   "metadata": {},
   "outputs": [],
   "source": [
    "X_test_continuous = test[[\"air_inflow\", \"air_end_temp\", \"out_pressure\", \"motor_current\", \"motor_rpm\", \"motor_temp\", \"motor_vibe\", \"specific_power\", \"compression_ratio\", \"motor_efficiency\", \"temperature_difference\", \"pr_ratio\"]] \n",
    "X_test_categorical = test[\"type\"]\n",
    "\n",
    "X_test_continuous = scaler.transform(X_test_continuous)  "
   ]
  },
  {
   "cell_type": "code",
   "execution_count": 28,
   "id": "754fbfb8-b3c8-45eb-b579-8b1a8bb274bf",
   "metadata": {},
   "outputs": [],
   "source": [
    "X_test_categorical_onehot = [] \n",
    "\n",
    "for i in range(len(X_test_categorical)): \n",
    "    arr = [0 for _ in range(num_classes)] \n",
    "    arr[X_test_categorical[i]] = 1 \n",
    "    X_test_categorical_onehot.append(arr)  "
   ]
  },
  {
   "cell_type": "code",
   "execution_count": 29,
   "id": "5ce987f7-853e-40a6-a5a7-eb9ecaba69dd",
   "metadata": {},
   "outputs": [
    {
     "data": {
      "text/plain": [
       "(torch.Size([7389, 12]), torch.Size([7389, 8]))"
      ]
     },
     "execution_count": 29,
     "metadata": {},
     "output_type": "execute_result"
    }
   ],
   "source": [
    "batch_size = 1 \n",
    "X_test_continuous = torch.tensor(X_test_continuous).float() \n",
    "X_test_categorical_onehot = torch.tensor(X_test_categorical_onehot, dtype=int) \n",
    "\n",
    "X_test_continuous.shape, X_test_categorical_onehot.shape"
   ]
  },
  {
   "cell_type": "code",
   "execution_count": 31,
   "id": "fdb89ecd-b1c0-4ae7-96d5-4ebe9bc67ad9",
   "metadata": {},
   "outputs": [],
   "source": [
    "test_data = TensorDataset(X_test_continuous, X_test_categorical_onehot) \n",
    "test_sampler = SequentialSampler(test_data) \n",
    "test_dataloader = DataLoader(test_data, sampler=test_sampler, batch_size=1)  "
   ]
  },
  {
   "cell_type": "code",
   "execution_count": 34,
   "id": "0339a53e-4d65-45b2-836c-2c27aa65c641",
   "metadata": {},
   "outputs": [
    {
     "name": "stdout",
     "output_type": "stream",
     "text": [
      "<All keys matched successfully>\n"
     ]
    },
    {
     "data": {
      "text/plain": [
       "AutoEncoder(\n",
       "  (embedding): Embedding(8, 16)\n",
       "  (encoder): Sequential(\n",
       "    (0): Linear(in_features=28, out_features=10, bias=True)\n",
       "    (1): ELU(alpha=1.0)\n",
       "    (2): Linear(in_features=10, out_features=5, bias=True)\n",
       "  )\n",
       "  (decoder): Sequential(\n",
       "    (0): Linear(in_features=5, out_features=10, bias=True)\n",
       "    (1): ELU(alpha=1.0)\n",
       "    (2): Linear(in_features=10, out_features=28, bias=True)\n",
       "  )\n",
       ")"
      ]
     },
     "execution_count": 34,
     "metadata": {},
     "output_type": "execute_result"
    }
   ],
   "source": [
    "best_model = AutoEncoder(input_dim=12, n_categories=8, embedding_dim=16) \n",
    "checkpoint = torch.load(\"AE_Categorical_FE_GPT_.pt\") \n",
    "print(best_model.load_state_dict(checkpoint)) \n",
    "best_model.to(device)"
   ]
  },
  {
   "cell_type": "code",
   "execution_count": 35,
   "id": "8594084a-6154-4342-ada1-0d0e7fd50196",
   "metadata": {},
   "outputs": [
    {
     "data": {
      "application/vnd.jupyter.widget-view+json": {
       "model_id": "bbb2167b40fa44f0967d60c255a6a816",
       "version_major": 2,
       "version_minor": 0
      },
      "text/plain": [
       "0it [00:00, ?it/s]"
      ]
     },
     "metadata": {},
     "output_type": "display_data"
    }
   ],
   "source": [
    "criterion = nn.MSELoss() \n",
    "\n",
    "best_model.eval() \n",
    "\n",
    "test_mse_scores = [] \n",
    "\n",
    "with torch.no_grad():\n",
    "    for step, batch in tqdm(enumerate(test_dataloader), position=0, leave=True): \n",
    "        batch = tuple(t.to(device) for t in batch) \n",
    "        b_continuous, b_categorical = batch  \n",
    "        b_inputs, decoded = model(b_continuous, b_categorical)\n",
    "        loss = criterion(decoded, b_inputs) \n",
    "        test_mse_scores.append(loss.item())  "
   ]
  },
  {
   "cell_type": "code",
   "execution_count": 36,
   "id": "64968f91-a8c0-4c6d-97ec-16d8414d0fad",
   "metadata": {},
   "outputs": [],
   "source": [
    "def mad_score(points): \n",
    "    m = np.median(points) \n",
    "    ad = np.abs(points - m) \n",
    "    mad = np.median(ad) \n",
    "    return 0.6745 * ad / mad \n",
    "\n",
    "z_scores = mad_score(test_mse_scores)"
   ]
  },
  {
   "cell_type": "code",
   "execution_count": 37,
   "id": "42cc207c-fec9-476f-a246-7a8a12c5d60d",
   "metadata": {},
   "outputs": [
    {
     "name": "stdout",
     "output_type": "stream",
     "text": [
      "gamma:3.5, cnt:758\n",
      "gamma:5.5, cnt:523\n",
      "gamma:10.5, cnt:386\n",
      "gamma:20.5, cnt:351\n",
      "gamma:30.5, cnt:345\n",
      "gamma:40.5, cnt:344\n",
      "gamma:50.5, cnt:344\n",
      "gamma:60.5, cnt:344\n",
      "gamma:70.5, cnt:344\n",
      "gamma:80.5, cnt:344\n",
      "gamma:90.5, cnt:344\n",
      "gamma:100.5, cnt:344\n",
      "gamma:110.5, cnt:344\n",
      "gamma:120.5, cnt:344\n",
      "gamma:130.5, cnt:344\n",
      "gamma:140.5, cnt:344\n",
      "gamma:150.5, cnt:344\n",
      "gamma:160.5, cnt:344\n",
      "gamma:170.5, cnt:344\n",
      "gamma:180.5, cnt:344\n",
      "gamma:190.5, cnt:344\n",
      "gamma:200.5, cnt:344\n"
     ]
    }
   ],
   "source": [
    "gammas = [3.5, 5.5, 10.5, 20.5, 30.5, 40.5, 50.5, 60.5, 70.5, 80.5, 90.5, 100.5, 110.5, 120.5, 130.5, 140.5, 150.5, 160.5, 170.5, 180.5, 190.5, 200.5] \n",
    "\n",
    "for gamma in gammas: \n",
    "    outliers = z_scores > gamma \n",
    "    outliers = outliers.astype(int) \n",
    "    submission = pd.read_csv(\"answer_sample.csv\") \n",
    "    submission[\"label\"] = outliers\n",
    "    \n",
    "    cnt = 0 \n",
    "    for i in range(len(outliers)): \n",
    "        if outliers[i] == 1: \n",
    "            cnt += 1 \n",
    "    \n",
    "    if gamma == 200.5:\n",
    "        submission.to_csv(f\"GPT_AE_Categorical_{gamma}_cnt_{cnt}.csv\",index=False)  \n",
    "    \n",
    "    print(f\"gamma:{gamma}, cnt:{cnt}\") \n"
   ]
  },
  {
   "cell_type": "code",
   "execution_count": null,
   "id": "88a5219f-9497-4ad2-a879-0b209613f9d9",
   "metadata": {},
   "outputs": [],
   "source": []
  }
 ],
 "metadata": {
  "kernelspec": {
   "display_name": "Python 3 (ipykernel)",
   "language": "python",
   "name": "python3"
  },
  "language_info": {
   "codemirror_mode": {
    "name": "ipython",
    "version": 3
   },
   "file_extension": ".py",
   "mimetype": "text/x-python",
   "name": "python",
   "nbconvert_exporter": "python",
   "pygments_lexer": "ipython3",
   "version": "3.8.12"
  }
 },
 "nbformat": 4,
 "nbformat_minor": 5
}
